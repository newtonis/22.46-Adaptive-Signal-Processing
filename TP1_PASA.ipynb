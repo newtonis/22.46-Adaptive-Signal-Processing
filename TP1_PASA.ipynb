{
  "nbformat": 4,
  "nbformat_minor": 0,
  "metadata": {
    "colab": {
      "name": "TP1 PASA.ipynb",
      "version": "0.3.2",
      "provenance": [],
      "collapsed_sections": [],
      "include_colab_link": true
    },
    "kernelspec": {
      "name": "python3",
      "display_name": "Python 3"
    }
  },
  "cells": [
    {
      "cell_type": "markdown",
      "metadata": {
        "id": "view-in-github",
        "colab_type": "text"
      },
      "source": [
        "<a href=\"https://colab.research.google.com/github/newtonis/PASA/blob/master/TP1_PASA.ipynb\" target=\"_parent\"><img src=\"https://colab.research.google.com/assets/colab-badge.svg\" alt=\"Open In Colab\"/></a>"
      ]
    },
    {
      "cell_type": "code",
      "metadata": {
        "id": "vgstrSbJNLW5",
        "colab_type": "code",
        "outputId": "f29db60e-7398-4e95-a2d2-c500cf1a80a1",
        "colab": {
          "base_uri": "https://localhost:8080/",
          "height": 618
        }
      },
      "source": [
        "! wget \"https://raw.githubusercontent.com/newtonis/PASA/master/data/H-H1_LOSC_4_V2-1126259446-32.hdf5\"\n",
        "! wget \"https://raw.githubusercontent.com/newtonis/PASA/master/data/L-L1_LOSC_4_V2-1126259446-32.hdf5\"\n",
        "! wget \"https://raw.githubusercontent.com/newtonis/PASA/master/readligo.py\"\n",
        "\n"
      ],
      "execution_count": 0,
      "outputs": [
        {
          "output_type": "stream",
          "text": [
            "--2019-09-02 14:28:40--  https://raw.githubusercontent.com/newtonis/PASA/master/data/H-H1_LOSC_4_V2-1126259446-32.hdf5\n",
            "Resolving raw.githubusercontent.com (raw.githubusercontent.com)... 151.101.0.133, 151.101.64.133, 151.101.128.133, ...\n",
            "Connecting to raw.githubusercontent.com (raw.githubusercontent.com)|151.101.0.133|:443... connected.\n",
            "HTTP request sent, awaiting response... 200 OK\n",
            "Length: 1040592 (1016K) [application/octet-stream]\n",
            "Saving to: ‘H-H1_LOSC_4_V2-1126259446-32.hdf5.2’\n",
            "\n",
            "\r          H-H1_LOSC   0%[                    ]       0  --.-KB/s               \rH-H1_LOSC_4_V2-1126 100%[===================>]   1016K  --.-KB/s    in 0.08s   \n",
            "\n",
            "2019-09-02 14:28:40 (13.0 MB/s) - ‘H-H1_LOSC_4_V2-1126259446-32.hdf5.2’ saved [1040592/1040592]\n",
            "\n",
            "--2019-09-02 14:28:42--  https://raw.githubusercontent.com/newtonis/PASA/master/data/L-L1_LOSC_4_V2-1126259446-32.hdf5\n",
            "Resolving raw.githubusercontent.com (raw.githubusercontent.com)... 151.101.0.133, 151.101.64.133, 151.101.128.133, ...\n",
            "Connecting to raw.githubusercontent.com (raw.githubusercontent.com)|151.101.0.133|:443... connected.\n",
            "HTTP request sent, awaiting response... 200 OK\n",
            "Length: 1007420 (984K) [application/octet-stream]\n",
            "Saving to: ‘L-L1_LOSC_4_V2-1126259446-32.hdf5.1’\n",
            "\n",
            "L-L1_LOSC_4_V2-1126 100%[===================>] 983.81K  --.-KB/s    in 0.08s   \n",
            "\n",
            "2019-09-02 14:28:42 (12.7 MB/s) - ‘L-L1_LOSC_4_V2-1126259446-32.hdf5.1’ saved [1007420/1007420]\n",
            "\n",
            "--2019-09-02 14:28:43--  https://raw.githubusercontent.com/newtonis/PASA/master/readligo.py\n",
            "Resolving raw.githubusercontent.com (raw.githubusercontent.com)... 151.101.0.133, 151.101.64.133, 151.101.128.133, ...\n",
            "Connecting to raw.githubusercontent.com (raw.githubusercontent.com)|151.101.0.133|:443... connected.\n",
            "HTTP request sent, awaiting response... 200 OK\n",
            "Length: 19244 (19K) [text/plain]\n",
            "Saving to: ‘readligo.py’\n",
            "\n",
            "readligo.py         100%[===================>]  18.79K  --.-KB/s    in 0.01s   \n",
            "\n",
            "2019-09-02 14:28:43 (1.54 MB/s) - ‘readligo.py’ saved [19244/19244]\n",
            "\n"
          ],
          "name": "stdout"
        }
      ]
    },
    {
      "cell_type": "code",
      "metadata": {
        "id": "WVf8ucBMR9Ga",
        "colab_type": "code",
        "colab": {}
      },
      "source": [
        ""
      ],
      "execution_count": 0,
      "outputs": []
    },
    {
      "cell_type": "code",
      "metadata": {
        "id": "klLYp9IFSP0Q",
        "colab_type": "code",
        "outputId": "7a97a7fa-e12a-40d9-d6b3-c912d6d7e920",
        "colab": {
          "base_uri": "https://localhost:8080/",
          "height": 663
        }
      },
      "source": [
        "import h5py    \n",
        "import numpy as np    \n",
        "import pandas as pd\n",
        "import readligo as rl\n",
        "import matplotlib.pyplot as plt\n",
        "\n",
        "file_name = \"H-H1_LOSC_4_V2-1126259446-32.hdf5\"  \n",
        "\n",
        "strain, time, dq = rl.loaddata(file_name, 'H1')\n",
        "\n",
        "total_time = time[-1]-time[0]\n",
        "dt = 0.02\n",
        "\n",
        "windows_qnt = int(total_time/dt)\n",
        "\n",
        "n = len(time)// windows_qnt\n",
        "\n",
        "windows = [time[i:i+n] for i in range(windows_qnt)]\n",
        "stran_windowed = [strain[i:i+n] for i in range(windows_qnt)]\n",
        "\n",
        "# falta la ultima parte\n",
        "windows.append(time[(windows_qnt-1)+n:len(time)]) #agrego lo que faltaba\n",
        "strain_windowed.append(strain[(windows_qnt-1)+n:len(strain)]) #agrego lo que faltaba\n",
        "\n",
        "fig, axs = plt.subplots(2, 2)\n",
        "fig.suptitle('Horizontally stacked subplots')\n",
        "\n",
        "time_t = range(len(windows[0]))\n",
        "\n",
        "print(\"windows0\",windows[0])\n",
        "axs[0, 0].plot(range(len(strain_windowed[0])),strain_windowed[0])\n",
        "#axs[1, 0].plot(range(len(windows[1])),strain_windowed[1])\n",
        "\n",
        "# normalizo la fft\n",
        "Y = np.fft.fft(strain_i)\n",
        "Y /= len(Y)\n",
        "\n",
        "Mod = [abs(x)**2 for x in Y];\n",
        "\n",
        "#axs[1,1].plot(range(len(Mod)),Mod) # plotting the spectrum\n",
        "\n",
        "plt.show()\n"
      ],
      "execution_count": 0,
      "outputs": [
        {
          "output_type": "stream",
          "text": [
            "windows0 [1.12625945e+09 1.12625945e+09 1.12625945e+09 1.12625945e+09\n",
            " 1.12625945e+09 1.12625945e+09 1.12625945e+09 1.12625945e+09\n",
            " 1.12625945e+09 1.12625945e+09 1.12625945e+09 1.12625945e+09\n",
            " 1.12625945e+09 1.12625945e+09 1.12625945e+09 1.12625945e+09\n",
            " 1.12625945e+09 1.12625945e+09 1.12625945e+09 1.12625945e+09\n",
            " 1.12625945e+09 1.12625945e+09 1.12625945e+09 1.12625945e+09\n",
            " 1.12625945e+09 1.12625945e+09 1.12625945e+09 1.12625945e+09\n",
            " 1.12625945e+09 1.12625945e+09 1.12625945e+09 1.12625945e+09\n",
            " 1.12625945e+09 1.12625945e+09 1.12625945e+09 1.12625945e+09\n",
            " 1.12625945e+09 1.12625945e+09 1.12625945e+09 1.12625945e+09\n",
            " 1.12625945e+09 1.12625945e+09 1.12625945e+09 1.12625945e+09\n",
            " 1.12625945e+09 1.12625945e+09 1.12625945e+09 1.12625945e+09\n",
            " 1.12625945e+09 1.12625945e+09 1.12625945e+09 1.12625945e+09\n",
            " 1.12625945e+09 1.12625945e+09 1.12625945e+09 1.12625945e+09\n",
            " 1.12625945e+09 1.12625945e+09 1.12625945e+09 1.12625945e+09\n",
            " 1.12625945e+09 1.12625945e+09 1.12625945e+09 1.12625945e+09\n",
            " 1.12625945e+09 1.12625945e+09 1.12625945e+09 1.12625945e+09\n",
            " 1.12625945e+09 1.12625945e+09 1.12625945e+09 1.12625945e+09\n",
            " 1.12625945e+09 1.12625945e+09 1.12625945e+09 1.12625945e+09\n",
            " 1.12625945e+09 1.12625945e+09 1.12625945e+09 1.12625945e+09\n",
            " 1.12625945e+09]\n"
          ],
          "name": "stdout"
        },
        {
          "output_type": "display_data",
          "data": {
            "image/png": "[encoded data removed]",
            "text/plain": [
              "<Figure size 432x288 with 4 Axes>"
            ]
          },
          "metadata": {
            "tags": []
          }
        }
      ]
    },
    {
      "cell_type": "code",
      "metadata": {
        "id": "mLnmPM3rae8I",
        "colab_type": "code",
        "colab": {}
      },
      "source": [
        ""
      ],
      "execution_count": 0,
      "outputs": []
    }
  ]
}